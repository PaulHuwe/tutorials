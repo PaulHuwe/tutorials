{
 "cells": [
  {
   "cell_type": "markdown",
   "metadata": {},
   "source": [
    "# ASDF and World Coordinate Systems\n",
    "\n",
    "The handling of World Coordinate Systems (WCS) is inextricably bound to \n",
    "digital observational data. For example, given a pixel in the data array \n",
    "from a detector, what RA, Dec does it map to? Or what pixel does an \n",
    "RA, Dec map to? Likewise for spectrographic data, what wavelength, \n",
    "RA, and Dec does a pixel correspond to? Astronomers have had various \n",
    "solutions to this problem in the past. Most of them have been awkward\n",
    "to deal with.\n",
    "\n",
    "Dealing with WCS issues flexibly was a major driver for ASDF and it \n",
    "deserves its own tutorial.\n",
    "\n",
    "## FITS and WCS\n",
    "\n",
    "FITS has had a series of papers and resulting standards to deal with\n",
    "WCS issues. Generally speaking, these have presumed mostly issues of \n",
    "idealized detectors and optics, where distortion is not a significant\n",
    "factor. There was much focus on handling many kinds of map projections\n",
    "for images, but little provision for distortions beyond what projections\n",
    "introduce. Likewise, most of the spectrosopic WCS models either presume\n",
    "specific dispersion models, or the old fallback of wavelength tables,\n",
    "which to this day many astronomers consider the only solution to \n",
    "spectroscopic WCS.\n",
    "\n",
    "Handling distortions in FITS has met with a failure to settle on \n",
    "any general approach. Currently there are only two practical imaging\n",
    "solutions, namely using the SIP convention, or a pixel translation\n",
    "table. The first is not suitable for high spatial position precision\n",
    "space telescopes \n",
    "such as HST, JWST or NGRST, the second is wasteful of disk space\n",
    "while being inflexible to adjustments (more on that later). Since\n",
    "most spectrographs use effectively the pixel translation approach,\n",
    "they are also wasteful of space for IFUs and long slit data, while\n",
    "also being inflexible to adjustments.\n",
    "\n",
    "## A more flexible approach\n",
    "\n",
    "Ideally, one would want to be able to construct coordinate transforms\n",
    "out of simpler models to form a pipeline of transformations from \n",
    "one coordinate frame to another. The combination of the Python packages \n",
    "astropy modeling, GWCS (Generalized World Coordinate Systems) and asdf\n",
    "provide a very flexible and powerful means of dealing with WCS.\n",
    "\n",
    "This tutorial will not address how one develops a WCS model as that\n",
    "is almost always a complex issue requiring very deep understanding\n",
    "of the instrument involved and careful treatment of coordinates, and\n",
    "usually is best left to experts (though being able to tweak the \n",
    "parameters of such WCS models is something than can and often should\n",
    "be exposed to users).\n",
    "\n",
    "This tutorial will focus more on using existing WCS models and seeing\n",
    "how they can be modified to improve results.\n",
    "\n",
    "## Using GWCS with ASDF\n",
    "\n",
    "This initial imaging example will use the same wcs that was in the\n",
    "JWST data file used in this tutorial: [Reading a JWST ASDF file]\n",
    "(Reading_a_JWST_ASDF_file.ipynb) except only the WCS has been saved\n",
    "to its own file (ASDF makes saving components of ASDF files to their\n",
    "own files trivial).\n",
    "\n",
    "## Required Software\n",
    "\n",
    "This notebook requires that asdf 2.7.1 (or later), astropy 4.0.1 (or later) and gwcs 0.14 (or later) are installed"
   ]
  },
  {
   "cell_type": "code",
   "execution_count": 1,
   "metadata": {},
   "outputs": [],
   "source": [
    "import asdf\n",
    "from astropy.utils.data import download_file\n",
    "import matplotlib\n",
    "matplotlib.rcParams['figure.figsize'] = (10, 10)\n",
    "from matplotlib import pyplot as plt\n",
    "file1_url_1 = 'https://data.science.stsci.edu/redirect/ASDF/asdf_tut_gwcs.asdf'"
   ]
  },
  {
   "cell_type": "code",
   "execution_count": 2,
   "metadata": {},
   "outputs": [],
   "source": [
    "filepath = download_file(file1_url_1)\n",
    "# Wait until download completes (when 'In [*]' changes the  '* to a number')\n",
    "# Ignore warnings"
   ]
  },
  {
   "cell_type": "code",
   "execution_count": 3,
   "metadata": {},
   "outputs": [
    {
     "name": "stderr",
     "output_type": "stream",
     "text": [
      "c:\\users\\perry\\documents\\github\\asdf\\asdf\\asdf.py:212: AsdfWarning: File 'file:///C:/Users/perry/AppData/Local/Temp/astropy-download-12004-c8lkqra6' was created with extension 'asdf.extension.BuiltinExtension' from package asdf-2.7.1, but older version asdf-2.6.1.dev59+gde25fec is installed\n",
      "  warnings.warn(fmt_msg, AsdfWarning)\n"
     ]
    }
   ],
   "source": [
    "af = asdf.open(filepath)"
   ]
  },
  {
   "cell_type": "code",
   "execution_count": 4,
   "metadata": {},
   "outputs": [],
   "source": [
    "# Get the GWCS for these data\n",
    "wcs = af['wcs']"
   ]
  },
  {
   "cell_type": "code",
   "execution_count": 5,
   "metadata": {},
   "outputs": [
    {
     "data": {
      "text/plain": [
       "[array(5.92172828), array(-72.0099005)]"
      ]
     },
     "execution_count": 5,
     "metadata": {},
     "output_type": "execute_result"
    }
   ],
   "source": [
    "# Illustrate use in converting pixel coordinate to sky\n",
    "wcs(100,200)"
   ]
  },
  {
   "cell_type": "code",
   "execution_count": 6,
   "metadata": {},
   "outputs": [
    {
     "data": {
      "text/plain": [
       "<CelestialFrame(name=\"world\", unit=(Unit(\"deg\"), Unit(\"deg\")), axes_names=('lon', 'lat'), axes_order=(0, 1), reference_frame=<ICRS Frame>)>"
      ]
     },
     "execution_count": 6,
     "metadata": {},
     "output_type": "execute_result"
    }
   ],
   "source": [
    "# But what coordinate system for the outputs? What units?\n",
    "wcs.output_frame"
   ]
  },
  {
   "cell_type": "code",
   "execution_count": 7,
   "metadata": {},
   "outputs": [
    {
     "data": {
      "text/plain": [
       "[Step(frame=detector,                       transform=CompoundModel),\n",
       " Step(frame=v2v3,                       transform=v23tosky),\n",
       " Step(frame=world,                       transform=None)]"
      ]
     },
     "execution_count": 7,
     "metadata": {},
     "output_type": "execute_result"
    }
   ],
   "source": [
    "# The WCS may have intermediate frames defined as well\n",
    "wcs.pipeline"
   ]
  },
  {
   "cell_type": "markdown",
   "metadata": {},
   "source": [
    "From this we see that there are three frames defined, the detector frame\n",
    "(e.g., pixel coordinates), the v2v3 frame, and the wolrd coordinate frame,\n",
    "which is the output frame.\n",
    "\n",
    "It is possible to access the corresponding coordinates for any intermediate frame."
   ]
  },
  {
   "cell_type": "code",
   "execution_count": 8,
   "metadata": {},
   "outputs": [
    {
     "data": {
      "text/plain": [
       "[array(144.73670405), array(-545.14002711)]"
      ]
     },
     "execution_count": 8,
     "metadata": {},
     "output_type": "execute_result"
    }
   ],
   "source": [
    "v2v3coords = wcs.transform('detector','v2v3', 100, 200)\n",
    "v2v3coords"
   ]
  },
  {
   "cell_type": "code",
   "execution_count": 9,
   "metadata": {},
   "outputs": [
    {
     "data": {
      "text/plain": [
       "(Unit(\"arcsec\"), Unit(\"arcsec\"))"
      ]
     },
     "execution_count": 9,
     "metadata": {},
     "output_type": "execute_result"
    }
   ],
   "source": [
    "# Units?\n",
    "wcs.pipeline[1].frame.unit"
   ]
  },
  {
   "cell_type": "code",
   "execution_count": 10,
   "metadata": {},
   "outputs": [
    {
     "data": {
      "text/plain": [
       "(5.921728283943831, -72.00990050127562)"
      ]
     },
     "execution_count": 10,
     "metadata": {},
     "output_type": "execute_result"
    }
   ],
   "source": [
    "# Complete computation to world\n",
    "wcs.transform('v2v3', 'world', *v2v3coords)"
   ]
  },
  {
   "cell_type": "markdown",
   "metadata": {},
   "source": [
    "## Relevance to ASDF?\n",
    "\n",
    "OK, GWCS has some extra features. But why is this part of an ASDF tutorial? Mainly to illustrate that ASDF preserves all the intrinsic information about the WCS and does not restrict transforms to a finite set of tools as FITS WCS does. We will illustrate this by examining this WCS in more detail. First note that ASDF allows an arbitrary number of intermediate frames (especially useful for spectral data), as well as an arbitrary number of different WCS models within a file. ASDF provides a way of saving most of astropy's models, of which there is a large number. More important, it can save astropy compound models. Arbitrarily complex combinations of models can be used and saved in ASDF, including all the projection models that FITS provides.\n",
    "\n",
    "So while most of this tutorial is focused on GWCS, it is ASDF that enables this to be used with data files without forcing the user to obtain reference files and special software to determine the correct WCS as had to be done during most of HST lifetime.\n",
    "\n",
    "Let's look at the details of the first step's transform."
   ]
  },
  {
   "cell_type": "code",
   "execution_count": 11,
   "metadata": {},
   "outputs": [
    {
     "data": {
      "text/plain": [
       "<class 'astropy.modeling.core.CompoundModel'>\n",
       "Name: CompoundModel\n",
       "N_inputs: <property object at 0x000002AB0700AB38>\n",
       "N_outputs: <property object at 0x000002AB0700AB88>\n",
       "Fittable parameters: <property object at 0x000002AB0700AA98>"
      ]
     },
     "execution_count": 11,
     "metadata": {},
     "output_type": "execute_result"
    }
   ],
   "source": [
    "transform1 = wcs.pipeline[0].transform\n",
    "type(transform1)"
   ]
  },
  {
   "cell_type": "code",
   "execution_count": 12,
   "metadata": {},
   "outputs": [
    {
     "name": "stdout",
     "output_type": "stream",
     "text": [
      "Model: CompoundModel\n",
      "Inputs: ('x0', 'x1')\n",
      "Outputs: ('y0', 'y1')\n",
      "Model set size: 1\n",
      "Expression: [0] & [1] | [2] & [3] | [4] | [5] & [6] | [7] | [8] & [9] | [10] & [11]\n",
      "Components: \n",
      "    [0]: <Shift(offset=1.)>\n",
      "\n",
      "    [1]: <Shift(offset=1.)>\n",
      "\n",
      "    [2]: <Shift(offset=-1024.5)>\n",
      "\n",
      "    [3]: <Shift(offset=-1024.5)>\n",
      "\n",
      "    [4]: <Mapping((0, 1, 0, 1))>\n",
      "\n",
      "    [5]: <Polynomial2D(5, c0_0=-0., c1_0=0.06277675, c2_0=0.00000012, c3_0=0., c4_0=0., c5_0=0., c0_1=0., c0_2=-0.0000001, c0_3=-0., c0_4=-0., c0_5=0., c1_1=-0.00000072, c1_2=0., c1_3=-0., c1_4=0., c2_1=-0., c2_2=0., c2_3=0., c3_1=-0., c3_2=0., c4_1=0.)>\n",
      "\n",
      "    [6]: <Polynomial2D(5, c0_0=0., c1_0=-0.00009103, c2_0=0.00000031, c3_0=-0., c4_0=0., c5_0=0., c0_1=0.06307627, c0_2=-0.00000042, c0_3=0., c0_4=-0., c0_5=0., c1_1=0.00000023, c1_2=-0., c1_3=0., c1_4=0., c2_1=0., c2_2=-0., c2_3=0., c3_1=0., c3_2=0., c4_1=0.)>\n",
      "\n",
      "    [7]: <Mapping((0, 1, 0, 1))>\n",
      "\n",
      "    [8]: <Polynomial2D(1, c0_0=0., c1_0=-0.99999917, c0_1=-0.00128895)>\n",
      "\n",
      "    [9]: <Polynomial2D(1, c0_0=0., c1_0=-0.00128895, c0_1=0.99999917)>\n",
      "\n",
      "    [10]: <Shift(offset=86.039011)>\n",
      "\n",
      "    [11]: <Shift(offset=-493.385704)>\n",
      "Parameters:\n",
      "    offset_0 offset_1 offset_2 offset_3 ...       c0_1_9       offset_10  offset_11 \n",
      "    -------- -------- -------- -------- ... ------------------ --------- -----------\n",
      "         1.0      1.0  -1024.5  -1024.5 ... 0.9999991693068759 86.039011 -493.385704\n"
     ]
    }
   ],
   "source": [
    "print(transform1)"
   ]
  },
  {
   "cell_type": "markdown",
   "metadata": {},
   "source": [
    "This compound model is sufficiently complicated to require some detailed explanation (but not nearly as complicated as some JWST spectral WCS models!). First a brief explanation of the notation. Inputs and outputs indicate that this model takes two input values (or two arrays of values and generates two output values, i.e., two input coordinates and two output coordinates. Expression is the expression used to combine astropy models into a more complex compound model. To keep the expression concise, each term is replaced by a number and the model associated with that number is listed below. The two operators in particular that need special explanation are & and |. The & operator means that two functions are joined by adding dimensionality. If a Shift function shifts the value of the input by the given value, the joining two Shift functions shift the first input by the first value, and the second input by the second value. It is a way of making two 1D functions a 2D function, albeit with each input coordinate treated independently of the other. The | operator feeds the output of the preceding function into the next. The number of outputs of the preceding must match the number of inputs of the following function. Finally, the Mapping function acts as a switchboard between inputs and output. For example, Mapping(0, 1, 0, 1) takes two inputs and generates 4 outputs, where outputs 0, and 2 are both equal to the first input, and outputs 1 and 3 are both equal to the second input.\n",
    "\n",
    "Now to summarize in words what this transform does: shifts both input values first by 1 and then by -1024.5. This to make the coordinates relative to the center of the detector and center of that pixel. The next step splits the two input values so that both go to two different 2D polynomials (each of which produces only one value, so the net result is two output values. Then these values go through a similar split and to a second polynomial that is effectively applying a small rotation, followed by a shift in the V2,V3 coordinate system.\n",
    "\n",
    "Now to look at the second step transform."
   ]
  },
  {
   "cell_type": "code",
   "execution_count": 13,
   "metadata": {},
   "outputs": [
    {
     "name": "stdout",
     "output_type": "stream",
     "text": [
      "Model: CompoundModel\n",
      "Name: v23tosky\n",
      "Inputs: ('x0', 'x1')\n",
      "Outputs: ('lon', 'lat')\n",
      "Model set size: 1\n",
      "Expression: [0] & [1] | [2] | [3] | [4]\n",
      "Components: \n",
      "    [0]: <Scale(factor=0.00027778)>\n",
      "\n",
      "    [1]: <Scale(factor=0.00027778)>\n",
      "\n",
      "    [2]: <SphericalToCartesian()>\n",
      "\n",
      "    [3]: <RotationSequence3D(angles=[  0.02391763,   0.13700764, 359.92586311, -71.99550858,  -5.86893417])>\n",
      "\n",
      "    [4]: <CartesianToSpherical()>\n",
      "Parameters:\n",
      "           factor_0       ...                angles_3 [5]               \n",
      "    --------------------- ... ------------------------------------------\n",
      "    0.0002777777777777778 ... 0.023917627222222224 .. -5.868934166666667\n"
     ]
    }
   ],
   "source": [
    "transform2 = wcs.pipeline[1].transform\n",
    "print(transform2)"
   ]
  },
  {
   "cell_type": "markdown",
   "metadata": {},
   "source": [
    "This transform is much simpler and consists of a scale change then conversion to cartesian to perform Euler rotations to the RA, Dec system and then conversion back to spherical coordinates.\n",
    "\n",
    "Note that there is no use of a tangent projection, and such distortions that would result from that have been folded into the polynomial distortion model.\n",
    "\n",
    "## Modifying the WCS\n",
    "\n",
    "This is a somewhat contrived example, but it is to illustrate that one can make customizations to a WCS fairly easily. In this particular case one could change any of the parameters in the transforms, and save the new WCS to an ASDF file without any concern for how to do that. Or one can modify the existing transform by adding new elements to the transform. So supposing the existing plate scale used does not include velocity aberration, then one would want to include that as well as a plate scale change, and perhaps not change  the existing plate scale application to be clear there are two different scales applied. \n",
    "\n"
   ]
  },
  {
   "cell_type": "code",
   "execution_count": 14,
   "metadata": {},
   "outputs": [],
   "source": [
    "from astropy.modeling.models import Scale\n",
    "va_plate_scale_correction = 1.00008\n",
    "transform3 = (Scale(va_plate_scale_correction) & Scale(va_plate_scale_correction)) | transform2\n",
    "wcs.pipeline[1].transform = transform3\n",
    "af.write_to('modified_wcs.asdf', all_array_storage='inline')"
   ]
  },
  {
   "cell_type": "code",
   "execution_count": 15,
   "metadata": {},
   "outputs": [],
   "source": [
    "af2 = asdf.open('modified_wcs.asdf')"
   ]
  },
  {
   "cell_type": "code",
   "execution_count": 16,
   "metadata": {},
   "outputs": [
    {
     "name": "stdout",
     "output_type": "stream",
     "text": [
      "Model: CompoundModel\n",
      "Inputs: ('x0', 'x1')\n",
      "Outputs: ('lon', 'lat')\n",
      "Model set size: 1\n",
      "Expression: [0] & [1] | [2] & [3] | [4] | [5] | [6]\n",
      "Components: \n",
      "    [0]: <Scale(factor=1.00008)>\n",
      "\n",
      "    [1]: <Scale(factor=1.00008)>\n",
      "\n",
      "    [2]: <Scale(factor=0.00027778)>\n",
      "\n",
      "    [3]: <Scale(factor=0.00027778)>\n",
      "\n",
      "    [4]: <SphericalToCartesian()>\n",
      "\n",
      "    [5]: <RotationSequence3D(angles=[  0.02391763,   0.13700764, 359.92586311, -71.99550858,  -5.86893417])>\n",
      "\n",
      "    [6]: <CartesianToSpherical()>\n",
      "Parameters:\n",
      "    factor_0 factor_1 ...                angles_5 [5]               \n",
      "    -------- -------- ... ------------------------------------------\n",
      "     1.00008  1.00008 ... 0.023917627222222224 .. -5.868934166666667\n"
     ]
    }
   ],
   "source": [
    "wcs2 = af2['wcs']\n",
    "mtransform2 = wcs2.pipeline[1].transform\n",
    "print(mtransform2)"
   ]
  },
  {
   "cell_type": "markdown",
   "metadata": {},
   "source": [
    "For those interested, here are the actual contents of the asdf file"
   ]
  },
  {
   "cell_type": "code",
   "execution_count": 17,
   "metadata": {},
   "outputs": [
    {
     "name": "stdout",
     "output_type": "stream",
     "text": [
      "#ASDF 1.0.0\n",
      "#ASDF_STANDARD 1.5.0\n",
      "%YAML 1.1\n",
      "%TAG ! tag:stsci.edu:asdf/\n",
      "--- !core/asdf-1.1.0\n",
      "asdf_library: !core/software-1.0.0 {author: Space Telescope Science Institute, homepage: 'http://github.com/spacetelescope/asdf',\n",
      "  name: asdf, version: 2.6.1.dev59+gde25fec}\n",
      "history:\n",
      "  extensions:\n",
      "  - !core/extension_metadata-1.0.0\n",
      "    extension_class: asdf.extension.BuiltinExtension\n",
      "    software: !core/software-1.0.0 {name: asdf, version: 2.6.1.dev59+gde25fec}\n",
      "  - !core/extension_metadata-1.0.0\n",
      "    extension_class: gwcs.extension.GWCSExtension\n",
      "    software: !core/software-1.0.0 {name: gwcs, version: 0.14.0}\n",
      "wcs: !<tag:stsci.edu:gwcs/wcs-1.1.0>\n",
      "  name: ''\n",
      "  steps:\n",
      "  - !<tag:stsci.edu:gwcs/step-1.1.0>\n",
      "    frame: !<tag:stsci.edu:gwcs/frame2d-1.0.0>\n",
      "      axes_names: [x, y]\n",
      "      axes_order: [0, 1]\n",
      "      axis_physical_types: ['custom:x', 'custom:y']\n",
      "      name: detector\n",
      "      unit: [!unit/unit-1.0.0 pixel, !unit/unit-1.0.0 pixel]\n",
      "    transform: !transform/compose-1.2.0\n",
      "      bounding_box:\n",
      "      - [-0.5, 2047.5]\n",
      "      - [-0.5, 2047.5]\n",
      "      forward:\n",
      "      - !transform/compose-1.2.0\n",
      "        forward:\n",
      "        - !transform/compose-1.2.0\n",
      "          forward:\n",
      "          - !transform/concatenate-1.2.0\n",
      "            forward:\n",
      "            - !transform/shift-1.2.0 {offset: 1.0}\n",
      "            - !transform/shift-1.2.0 {offset: 1.0}\n",
      "          - !transform/concatenate-1.2.0\n",
      "            forward:\n",
      "            - !transform/shift-1.2.0 {offset: -1024.5}\n",
      "            - !transform/shift-1.2.0 {offset: -1024.5}\n",
      "        - !transform/compose-1.2.0\n",
      "          forward:\n",
      "          - !transform/compose-1.2.0\n",
      "            forward:\n",
      "            - !transform/remap_axes-1.2.0\n",
      "              mapping: [0, 1, 0, 1]\n",
      "            - !transform/concatenate-1.2.0\n",
      "              forward:\n",
      "              - !transform/polynomial-1.2.0\n",
      "                coefficients: !core/ndarray-1.0.0\n",
      "                  data:\n",
      "                  - [-0.0, 0.0, -9.721046535057192e-08, -2.164006028817789e-13, -3.590620404845533e-16,\n",
      "                    4.354424173002358e-20]\n",
      "                  - [0.06277674557948036, -7.244807505775117e-07, 9.66518115581259e-11,\n",
      "                    -3.191824242088728e-15, 4.71684808024088e-18, 0.0]\n",
      "                  - [1.198364733530203e-07, -5.782468597491751e-12, 2.117937146007029e-16,\n",
      "                    5.143162171129567e-19, 0.0, 0.0]\n",
      "                  - [9.094661041997164e-11, -2.949576253844291e-15, 9.531355664635004e-18,\n",
      "                    0.0, 0.0, 0.0]\n",
      "                  - [6.449038115869934e-16, 4.879315376187496e-19, 0.0, 0.0, 0.0,\n",
      "                    0.0]\n",
      "                  - [4.706941538958384e-18, 0.0, 0.0, 0.0, 0.0, 0.0]\n",
      "                  datatype: float64\n",
      "                  shape: [6, 6]\n",
      "                domain:\n",
      "                - &id001 [-1, 1]\n",
      "                - *id001\n",
      "                window:\n",
      "                - *id001\n",
      "                - *id001\n",
      "              - !transform/polynomial-1.2.0\n",
      "                coefficients: !core/ndarray-1.0.0\n",
      "                  data:\n",
      "                  - [0.0, 0.0630762699429303, -4.239854922865822e-07, 9.762139471915262e-11,\n",
      "                    -2.015274358881797e-15, 4.410393661077231e-18]\n",
      "                  - [-9.102681200381172e-05, 2.287097298253153e-07, -6.481047139577153e-12,\n",
      "                    1.0853593918469e-15, 4.941571953195922e-19, 0.0]\n",
      "                  - [3.086258377388918e-07, 8.751405385759113e-11, -5.078890561912942e-16,\n",
      "                    9.736970732740994e-18, 0.0, 0.0]\n",
      "                  - [-6.696189796258203e-13, 1.146884680565914e-15, 5.986044579428994e-19,\n",
      "                    0.0, 0.0, 0.0]\n",
      "                  - [1.454596109813538e-15, 5.27551747031014e-18, 0.0, 0.0, 0.0, 0.0]\n",
      "                  - [9.296183515265389e-20, 0.0, 0.0, 0.0, 0.0, 0.0]\n",
      "                  datatype: float64\n",
      "                  shape: [6, 6]\n",
      "                domain:\n",
      "                - *id001\n",
      "                - *id001\n",
      "                window:\n",
      "                - *id001\n",
      "                - *id001\n",
      "          - !transform/compose-1.2.0\n",
      "            forward:\n",
      "            - !transform/remap_axes-1.2.0\n",
      "              mapping: [0, 1, 0, 1]\n",
      "            - !transform/concatenate-1.2.0\n",
      "              forward:\n",
      "              - !transform/polynomial-1.2.0\n",
      "                coefficients: !core/ndarray-1.0.0\n",
      "                  data:\n",
      "                  - [0.0, -0.0012889474613725963]\n",
      "                  - [-0.9999991693068759, 0.0]\n",
      "                  datatype: float64\n",
      "                  shape: [2, 2]\n",
      "                domain:\n",
      "                - *id001\n",
      "                - *id001\n",
      "                window:\n",
      "                - *id001\n",
      "                - *id001\n",
      "              - !transform/polynomial-1.2.0\n",
      "                coefficients: !core/ndarray-1.0.0\n",
      "                  data:\n",
      "                  - [0.0, 0.9999991693068759]\n",
      "                  - [-0.0012889474613725963, 0.0]\n",
      "                  datatype: float64\n",
      "                  shape: [2, 2]\n",
      "                domain:\n",
      "                - *id001\n",
      "                - *id001\n",
      "                window:\n",
      "                - *id001\n",
      "                - *id001\n",
      "      - !transform/concatenate-1.2.0\n",
      "        forward:\n",
      "        - !transform/shift-1.2.0 {offset: 86.039011}\n",
      "        - !transform/shift-1.2.0 {offset: -493.385704}\n",
      "      inverse: !transform/compose-1.2.0\n",
      "        forward:\n",
      "        - !transform/concatenate-1.2.0\n",
      "          forward:\n",
      "          - !transform/shift-1.2.0 {offset: -86.039011}\n",
      "          - !transform/shift-1.2.0 {offset: 493.385704}\n",
      "        - !transform/compose-1.2.0\n",
      "          forward:\n",
      "          - !transform/compose-1.2.0\n",
      "            forward:\n",
      "            - !transform/compose-1.2.0\n",
      "              forward:\n",
      "              - !transform/remap_axes-1.2.0\n",
      "                mapping: [0, 1, 0, 1]\n",
      "              - !transform/concatenate-1.2.0\n",
      "                forward:\n",
      "                - !transform/polynomial-1.2.0\n",
      "                  coefficients: !core/ndarray-1.0.0\n",
      "                    data:\n",
      "                    - [0.0, -0.0012889474613725963]\n",
      "                    - [-0.9999991693068759, 0.0]\n",
      "                    datatype: float64\n",
      "                    shape: [2, 2]\n",
      "                  domain:\n",
      "                  - *id001\n",
      "                  - *id001\n",
      "                  window:\n",
      "                  - *id001\n",
      "                  - *id001\n",
      "                - !transform/polynomial-1.2.0\n",
      "                  coefficients: !core/ndarray-1.0.0\n",
      "                    data:\n",
      "                    - [0.0, 0.9999991693068759]\n",
      "                    - [-0.0012889474613725963, 0.0]\n",
      "                    datatype: float64\n",
      "                    shape: [2, 2]\n",
      "                  domain:\n",
      "                  - *id001\n",
      "                  - *id001\n",
      "                  window:\n",
      "                  - *id001\n",
      "                  - *id001\n",
      "            - !transform/compose-1.2.0\n",
      "              forward:\n",
      "              - !transform/remap_axes-1.2.0\n",
      "                mapping: [0, 1, 0, 1]\n",
      "              - !transform/concatenate-1.2.0\n",
      "                forward:\n",
      "                - !transform/polynomial-1.2.0\n",
      "                  coefficients: !core/ndarray-1.0.0\n",
      "                    data:\n",
      "                    - [0.001606802685174102, 1.072121003490439e-05, 0.0003899472961152239,\n",
      "                      1.741491572219416e-07, -1.730326086686541e-10, -1.214407164376713e-12]\n",
      "                    - [15.92985674331845, 0.002932499409606826, -5.492406520770091e-06,\n",
      "                      -3.48506269432795e-09, -6.053447585998923e-11, 0.0]\n",
      "                    - [-0.0004827156577026869, -1.704997124234288e-07, 4.500242110641451e-10,\n",
      "                      -7.573478292656556e-12, 0.0, 0.0]\n",
      "                    - [-6.181790050341375e-06, -3.7994370832503e-09, -1.214837102200545e-10,\n",
      "                      0.0, 0.0, 0.0]\n",
      "                    - [6.600092079203932e-10, -6.325812350975392e-12, 0.0, 0.0, 0.0,\n",
      "                      0.0]\n",
      "                    - [-5.99901579643954e-11, 0.0, 0.0, 0.0, 0.0, 0.0]\n",
      "                    datatype: float64\n",
      "                    shape: [6, 6]\n",
      "                  domain:\n",
      "                  - *id001\n",
      "                  - *id001\n",
      "                  window:\n",
      "                  - *id001\n",
      "                  - *id001\n",
      "                - !transform/polynomial-1.2.0\n",
      "                  coefficients: !core/ndarray-1.0.0\n",
      "                    data:\n",
      "                    - [-0.006780939009559006, 15.85435606632966, 0.001699308339193117,\n",
      "                      -5.931127954103713e-06, -2.505780246788893e-09, -5.582941651153512e-11]\n",
      "                    - [0.02314264781384863, -0.0009119151347307442, -1.968853925968155e-07,\n",
      "                      9.314930747598225e-10, -6.10620822524126e-12, 0.0]\n",
      "                    - [-0.001244711452021884, -6.450451269943015e-06, -2.485642883412269e-09,\n",
      "                      -1.192566344000974e-10, 0.0, 0.0]\n",
      "                    - [1.499394209694464e-07, 1.029780982881483e-09, -7.045014588881225e-12,\n",
      "                      0.0, 0.0, 0.0]\n",
      "                    - [3.124699039332876e-10, -6.284891892869384e-11, 0.0, 0.0, 0.0,\n",
      "                      0.0]\n",
      "                    - [-9.811118954903338e-13, 0.0, 0.0, 0.0, 0.0, 0.0]\n",
      "                    datatype: float64\n",
      "                    shape: [6, 6]\n",
      "                  domain:\n",
      "                  - *id001\n",
      "                  - *id001\n",
      "                  window:\n",
      "                  - *id001\n",
      "                  - *id001\n",
      "          - !transform/compose-1.2.0\n",
      "            forward:\n",
      "            - !transform/concatenate-1.2.0\n",
      "              forward:\n",
      "              - !transform/shift-1.2.0 {offset: 1024.5}\n",
      "              - !transform/shift-1.2.0 {offset: 1024.5}\n",
      "            - !transform/concatenate-1.2.0\n",
      "              forward:\n",
      "              - !transform/shift-1.2.0 {offset: -1.0}\n",
      "              - !transform/shift-1.2.0 {offset: -1.0}\n",
      "  - !<tag:stsci.edu:gwcs/step-1.1.0>\n",
      "    frame: !<tag:stsci.edu:gwcs/frame2d-1.0.0>\n",
      "      axes_names: [x, y]\n",
      "      axes_order: [0, 1]\n",
      "      axis_physical_types: ['custom:x', 'custom:y']\n",
      "      name: v2v3\n",
      "      unit: [!unit/unit-1.0.0 arcsec, !unit/unit-1.0.0 arcsec]\n",
      "    transform: !transform/compose-1.2.0\n",
      "      forward:\n",
      "      - !transform/concatenate-1.2.0\n",
      "        forward:\n",
      "        - !transform/scale-1.2.0 {factor: 1.00008}\n",
      "        - !transform/scale-1.2.0 {factor: 1.00008}\n",
      "      - !transform/compose-1.2.0\n",
      "        forward:\n",
      "        - !transform/compose-1.2.0\n",
      "          forward:\n",
      "          - !transform/compose-1.2.0\n",
      "            forward:\n",
      "            - !transform/concatenate-1.2.0\n",
      "              forward:\n",
      "              - !transform/scale-1.2.0 {factor: 0.0002777777777777778}\n",
      "              - !transform/scale-1.2.0 {factor: 0.0002777777777777778}\n",
      "            - !<tag:stsci.edu:gwcs/spherical_cartesian-1.1.0> {transform_type: spherical_to_cartesian,\n",
      "              wrap_lon_at: 180}\n",
      "          - !transform/rotate_sequence_3d-1.0.0\n",
      "            angles: [0.023917627222222224, 0.13700764222222223, 359.9258631115845,\n",
      "              -71.99550858333333, -5.868934166666667]\n",
      "            axes_order: zyxyz\n",
      "            rotation_type: cartesian\n",
      "        - !<tag:stsci.edu:gwcs/spherical_cartesian-1.1.0> {transform_type: cartesian_to_spherical}\n",
      "        name: v23tosky\n",
      "  - !<tag:stsci.edu:gwcs/step-1.1.0>\n",
      "    frame: !<tag:stsci.edu:gwcs/celestial_frame-1.0.0>\n",
      "      axes_names: [lon, lat]\n",
      "      axes_order: [0, 1]\n",
      "      axis_physical_types: [pos.eq.ra, pos.eq.dec]\n",
      "      name: world\n",
      "      reference_frame: !<tag:astropy.org:astropy/coordinates/frames/icrs-1.1.0>\n",
      "        frame_attributes: {}\n",
      "      unit: [!unit/unit-1.0.0 deg, !unit/unit-1.0.0 deg]\n",
      "...\n"
     ]
    },
    {
     "name": "stdout",
     "output_type": "stream",
     "text": [
      "\n"
     ]
    }
   ],
   "source": [
    "with open('modified_wcs.asdf') as asdftext: print(asdftext.read()) "
   ]
  },
  {
   "cell_type": "markdown",
   "metadata": {},
   "source": [
    "The result is fairly extensive and not nearly as easy to interpret as the python printed version. Nevertheless, it demonstrates ASDF is capable of saving arbitrarily complex expressions without the user needing to understand the details of saving or reading those expressions."
   ]
  },
  {
   "cell_type": "code",
   "execution_count": null,
   "metadata": {},
   "outputs": [],
   "source": []
  }
 ],
 "metadata": {
  "kernelspec": {
   "display_name": "Python 3",
   "language": "python",
   "name": "python3"
  },
  "language_info": {
   "codemirror_mode": {
    "name": "ipython",
    "version": 3
   },
   "file_extension": ".py",
   "mimetype": "text/x-python",
   "name": "python",
   "nbconvert_exporter": "python",
   "pygments_lexer": "ipython3",
   "version": "3.7.7"
  }
 },
 "nbformat": 4,
 "nbformat_minor": 4
}
